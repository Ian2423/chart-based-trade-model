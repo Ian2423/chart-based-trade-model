{
  "nbformat": 4,
  "nbformat_minor": 0,
  "metadata": {
    "colab": {
      "provenance": []
    },
    "kernelspec": {
      "name": "python3",
      "display_name": "Python 3"
    },
    "language_info": {
      "name": "python"
    }
  },
  "cells": [
    {
      "cell_type": "code",
      "execution_count": 1,
      "metadata": {
        "colab": {
          "base_uri": "https://localhost:8080/",
          "height": 1000
        },
        "id": "AYrVdkC3kFw2",
        "outputId": "3bf942be-9d16-4e06-c80d-f23bd00b2498"
      },
      "outputs": [
        {
          "output_type": "display_data",
          "data": {
            "text/plain": [
              "<IPython.core.display.HTML object>"
            ],
            "text/html": [
              "\n",
              "     <input type=\"file\" id=\"files-ff6501ea-1a64-4140-bce9-f7c53b8d1ffe\" name=\"files[]\" multiple disabled\n",
              "        style=\"border:none\" />\n",
              "     <output id=\"result-ff6501ea-1a64-4140-bce9-f7c53b8d1ffe\">\n",
              "      Upload widget is only available when the cell has been executed in the\n",
              "      current browser session. Please rerun this cell to enable.\n",
              "      </output>\n",
              "      <script>// Copyright 2017 Google LLC\n",
              "//\n",
              "// Licensed under the Apache License, Version 2.0 (the \"License\");\n",
              "// you may not use this file except in compliance with the License.\n",
              "// You may obtain a copy of the License at\n",
              "//\n",
              "//      http://www.apache.org/licenses/LICENSE-2.0\n",
              "//\n",
              "// Unless required by applicable law or agreed to in writing, software\n",
              "// distributed under the License is distributed on an \"AS IS\" BASIS,\n",
              "// WITHOUT WARRANTIES OR CONDITIONS OF ANY KIND, either express or implied.\n",
              "// See the License for the specific language governing permissions and\n",
              "// limitations under the License.\n",
              "\n",
              "/**\n",
              " * @fileoverview Helpers for google.colab Python module.\n",
              " */\n",
              "(function(scope) {\n",
              "function span(text, styleAttributes = {}) {\n",
              "  const element = document.createElement('span');\n",
              "  element.textContent = text;\n",
              "  for (const key of Object.keys(styleAttributes)) {\n",
              "    element.style[key] = styleAttributes[key];\n",
              "  }\n",
              "  return element;\n",
              "}\n",
              "\n",
              "// Max number of bytes which will be uploaded at a time.\n",
              "const MAX_PAYLOAD_SIZE = 100 * 1024;\n",
              "\n",
              "function _uploadFiles(inputId, outputId) {\n",
              "  const steps = uploadFilesStep(inputId, outputId);\n",
              "  const outputElement = document.getElementById(outputId);\n",
              "  // Cache steps on the outputElement to make it available for the next call\n",
              "  // to uploadFilesContinue from Python.\n",
              "  outputElement.steps = steps;\n",
              "\n",
              "  return _uploadFilesContinue(outputId);\n",
              "}\n",
              "\n",
              "// This is roughly an async generator (not supported in the browser yet),\n",
              "// where there are multiple asynchronous steps and the Python side is going\n",
              "// to poll for completion of each step.\n",
              "// This uses a Promise to block the python side on completion of each step,\n",
              "// then passes the result of the previous step as the input to the next step.\n",
              "function _uploadFilesContinue(outputId) {\n",
              "  const outputElement = document.getElementById(outputId);\n",
              "  const steps = outputElement.steps;\n",
              "\n",
              "  const next = steps.next(outputElement.lastPromiseValue);\n",
              "  return Promise.resolve(next.value.promise).then((value) => {\n",
              "    // Cache the last promise value to make it available to the next\n",
              "    // step of the generator.\n",
              "    outputElement.lastPromiseValue = value;\n",
              "    return next.value.response;\n",
              "  });\n",
              "}\n",
              "\n",
              "/**\n",
              " * Generator function which is called between each async step of the upload\n",
              " * process.\n",
              " * @param {string} inputId Element ID of the input file picker element.\n",
              " * @param {string} outputId Element ID of the output display.\n",
              " * @return {!Iterable<!Object>} Iterable of next steps.\n",
              " */\n",
              "function* uploadFilesStep(inputId, outputId) {\n",
              "  const inputElement = document.getElementById(inputId);\n",
              "  inputElement.disabled = false;\n",
              "\n",
              "  const outputElement = document.getElementById(outputId);\n",
              "  outputElement.innerHTML = '';\n",
              "\n",
              "  const pickedPromise = new Promise((resolve) => {\n",
              "    inputElement.addEventListener('change', (e) => {\n",
              "      resolve(e.target.files);\n",
              "    });\n",
              "  });\n",
              "\n",
              "  const cancel = document.createElement('button');\n",
              "  inputElement.parentElement.appendChild(cancel);\n",
              "  cancel.textContent = 'Cancel upload';\n",
              "  const cancelPromise = new Promise((resolve) => {\n",
              "    cancel.onclick = () => {\n",
              "      resolve(null);\n",
              "    };\n",
              "  });\n",
              "\n",
              "  // Wait for the user to pick the files.\n",
              "  const files = yield {\n",
              "    promise: Promise.race([pickedPromise, cancelPromise]),\n",
              "    response: {\n",
              "      action: 'starting',\n",
              "    }\n",
              "  };\n",
              "\n",
              "  cancel.remove();\n",
              "\n",
              "  // Disable the input element since further picks are not allowed.\n",
              "  inputElement.disabled = true;\n",
              "\n",
              "  if (!files) {\n",
              "    return {\n",
              "      response: {\n",
              "        action: 'complete',\n",
              "      }\n",
              "    };\n",
              "  }\n",
              "\n",
              "  for (const file of files) {\n",
              "    const li = document.createElement('li');\n",
              "    li.append(span(file.name, {fontWeight: 'bold'}));\n",
              "    li.append(span(\n",
              "        `(${file.type || 'n/a'}) - ${file.size} bytes, ` +\n",
              "        `last modified: ${\n",
              "            file.lastModifiedDate ? file.lastModifiedDate.toLocaleDateString() :\n",
              "                                    'n/a'} - `));\n",
              "    const percent = span('0% done');\n",
              "    li.appendChild(percent);\n",
              "\n",
              "    outputElement.appendChild(li);\n",
              "\n",
              "    const fileDataPromise = new Promise((resolve) => {\n",
              "      const reader = new FileReader();\n",
              "      reader.onload = (e) => {\n",
              "        resolve(e.target.result);\n",
              "      };\n",
              "      reader.readAsArrayBuffer(file);\n",
              "    });\n",
              "    // Wait for the data to be ready.\n",
              "    let fileData = yield {\n",
              "      promise: fileDataPromise,\n",
              "      response: {\n",
              "        action: 'continue',\n",
              "      }\n",
              "    };\n",
              "\n",
              "    // Use a chunked sending to avoid message size limits. See b/62115660.\n",
              "    let position = 0;\n",
              "    do {\n",
              "      const length = Math.min(fileData.byteLength - position, MAX_PAYLOAD_SIZE);\n",
              "      const chunk = new Uint8Array(fileData, position, length);\n",
              "      position += length;\n",
              "\n",
              "      const base64 = btoa(String.fromCharCode.apply(null, chunk));\n",
              "      yield {\n",
              "        response: {\n",
              "          action: 'append',\n",
              "          file: file.name,\n",
              "          data: base64,\n",
              "        },\n",
              "      };\n",
              "\n",
              "      let percentDone = fileData.byteLength === 0 ?\n",
              "          100 :\n",
              "          Math.round((position / fileData.byteLength) * 100);\n",
              "      percent.textContent = `${percentDone}% done`;\n",
              "\n",
              "    } while (position < fileData.byteLength);\n",
              "  }\n",
              "\n",
              "  // All done.\n",
              "  yield {\n",
              "    response: {\n",
              "      action: 'complete',\n",
              "    }\n",
              "  };\n",
              "}\n",
              "\n",
              "scope.google = scope.google || {};\n",
              "scope.google.colab = scope.google.colab || {};\n",
              "scope.google.colab._files = {\n",
              "  _uploadFiles,\n",
              "  _uploadFilesContinue,\n",
              "};\n",
              "})(self);\n",
              "</script> "
            ]
          },
          "metadata": {}
        },
        {
          "output_type": "stream",
          "name": "stdout",
          "text": [
            "Saving corrections.csv to corrections.csv\n",
            "Saving image0 (1).jpg to image0 (1).jpg\n",
            "Saving image0.jpg to image0.jpg\n",
            "Saving image2.jpg to image2.jpg\n",
            "Saving image3.jpg to image3.jpg\n",
            "Saving image4.jpg to image4.jpg\n",
            "Saving image5.jpg to image5.jpg\n",
            "Saving image6.jpg to image6.jpg\n",
            "Saving IMG_20250516_091038_495.jpg to IMG_20250516_091038_495.jpg\n",
            "Saving Screenshot_20241223_105050_TradingView.jpg to Screenshot_20241223_105050_TradingView.jpg\n",
            "Saving Screenshot_20241226_163645_TradingView.jpg to Screenshot_20241226_163645_TradingView.jpg\n",
            "Saving Screenshot_20241231_132801_TradingView.jpg to Screenshot_20241231_132801_TradingView.jpg\n",
            "Saving Screenshot_20250102_102227_TradingView.jpg to Screenshot_20250102_102227_TradingView.jpg\n",
            "Saving Screenshot_20250103_133128_TradingView.jpg to Screenshot_20250103_133128_TradingView.jpg\n",
            "Saving Screenshot_20250106_111543_TradingView.jpg to Screenshot_20250106_111543_TradingView.jpg\n",
            "Saving Screenshot_20250107_120816_TradingView.jpg to Screenshot_20250107_120816_TradingView.jpg\n",
            "Saving Screenshot_20250108_113345_TradingView.jpg to Screenshot_20250108_113345_TradingView.jpg\n",
            "Saving Screenshot_20250109_123507_TradingView.jpg to Screenshot_20250109_123507_TradingView.jpg\n",
            "Saving Screenshot_20250110_124032_TradingView.jpg to Screenshot_20250110_124032_TradingView.jpg\n",
            "Saving Screenshot_20250113_100358_TradingView.jpg to Screenshot_20250113_100358_TradingView.jpg\n",
            "Saving Screenshot_20250114_092646_TradingView.jpg to Screenshot_20250114_092646_TradingView.jpg\n",
            "Saving Screenshot_20250115_133230_TradingView.jpg to Screenshot_20250115_133230_TradingView.jpg\n",
            "Saving Screenshot_20250116_111145_TradingView.jpg to Screenshot_20250116_111145_TradingView.jpg\n",
            "Saving Screenshot_20250117_092823_TradingView.jpg to Screenshot_20250117_092823_TradingView.jpg\n",
            "Saving Screenshot_20250120_133800_TradingView.jpg to Screenshot_20250120_133800_TradingView.jpg\n",
            "Saving Screenshot_20250121_091717_TradingView.jpg to Screenshot_20250121_091717_TradingView.jpg\n",
            "Saving Screenshot_20250122_092248_TradingView.jpg to Screenshot_20250122_092248_TradingView.jpg\n",
            "Saving Screenshot_20250123_092154_TradingView.jpg to Screenshot_20250123_092154_TradingView.jpg\n",
            "Saving Screenshot_20250124_131601_TradingView.jpg to Screenshot_20250124_131601_TradingView.jpg\n",
            "Saving Screenshot_20250127_090545_TradingView.jpg to Screenshot_20250127_090545_TradingView.jpg\n",
            "Saving Screenshot_20250128_133159_TradingView.jpg to Screenshot_20250128_133159_TradingView.jpg\n",
            "Saving Screenshot_20250203_083846_TradingView.jpg to Screenshot_20250203_083846_TradingView.jpg\n",
            "Saving Screenshot_20250204_130713_TradingView.jpg to Screenshot_20250204_130713_TradingView.jpg\n",
            "Saving Screenshot_20250205_094704_TradingView.jpg to Screenshot_20250205_094704_TradingView.jpg\n",
            "Saving Screenshot_20250206_083945_TradingView.jpg to Screenshot_20250206_083945_TradingView.jpg\n",
            "Saving Screenshot_20250207_101900_TradingView.jpg to Screenshot_20250207_101900_TradingView.jpg\n",
            "Saving Screenshot_20250210_101901_TradingView.jpg to Screenshot_20250210_101901_TradingView.jpg\n",
            "Saving Screenshot_20250211_082342_TradingView.jpg to Screenshot_20250211_082342_TradingView.jpg\n",
            "Saving Screenshot_20250212_093504_TradingView.jpg to Screenshot_20250212_093504_TradingView.jpg\n",
            "Saving Screenshot_20250213_094925_TradingView.jpg to Screenshot_20250213_094925_TradingView.jpg\n",
            "Saving Screenshot_20250214_114758_TradingView.jpg to Screenshot_20250214_114758_TradingView.jpg\n",
            "Saving Screenshot_20250217_083724_TradingView.jpg to Screenshot_20250217_083724_TradingView.jpg\n",
            "Saving Screenshot_20250218_134619_TradingView.jpg to Screenshot_20250218_134619_TradingView.jpg\n",
            "Saving Screenshot_20250219_092007_TradingView.jpg to Screenshot_20250219_092007_TradingView.jpg\n",
            "Saving Screenshot_20250221_083344_TradingView.jpg to Screenshot_20250221_083344_TradingView.jpg\n",
            "Saving Screenshot_20250224_103602_TradingView.jpg to Screenshot_20250224_103602_TradingView.jpg\n",
            "Saving Screenshot_20250225_085641_TradingView.jpg to Screenshot_20250225_085641_TradingView.jpg\n",
            "Saving Screenshot_20250226_105159_TradingView.jpg to Screenshot_20250226_105159_TradingView.jpg\n",
            "Saving Screenshot_20250227_090738_TradingView.jpg to Screenshot_20250227_090738_TradingView.jpg\n",
            "Saving Screenshot_20250228_091310_TradingView.jpg to Screenshot_20250228_091310_TradingView.jpg\n",
            "Saving Screenshot_20250303_105355_TradingView.jpg to Screenshot_20250303_105355_TradingView.jpg\n",
            "Saving Screenshot_20250304_081950_TradingView.jpg to Screenshot_20250304_081950_TradingView.jpg\n",
            "Saving Screenshot_20250305_093641_TradingView.jpg to Screenshot_20250305_093641_TradingView.jpg\n",
            "Saving Screenshot_20250306_085339_TradingView.jpg to Screenshot_20250306_085339_TradingView.jpg\n",
            "Saving Screenshot_20250307_131942_TradingView.jpg to Screenshot_20250307_131942_TradingView.jpg\n",
            "Saving Screenshot_20250310_082942_TradingView.jpg to Screenshot_20250310_082942_TradingView.jpg\n",
            "Saving Screenshot_20250311_090820_TradingView.jpg to Screenshot_20250311_090820_TradingView.jpg\n",
            "Saving Screenshot_20250312_090131_TradingView.jpg to Screenshot_20250312_090131_TradingView.jpg\n",
            "Saving Screenshot_20250313_092052_TradingView.jpg to Screenshot_20250313_092052_TradingView.jpg\n",
            "Saving Screenshot_20250314_091553_TradingView.jpg to Screenshot_20250314_091553_TradingView.jpg\n",
            "Saving Screenshot_20250317_094827_TradingView.jpg to Screenshot_20250317_094827_TradingView.jpg\n",
            "Saving Screenshot_20250318_090328_TradingView.jpg to Screenshot_20250318_090328_TradingView.jpg\n",
            "Saving Screenshot_20250319_081108_TradingView.jpg to Screenshot_20250319_081108_TradingView.jpg\n",
            "Saving Screenshot_20250320_100748_TradingView.jpg to Screenshot_20250320_100748_TradingView.jpg\n",
            "Saving Screenshot_20250321_131050_TradingView.jpg to Screenshot_20250321_131050_TradingView.jpg\n",
            "Saving Screenshot_20250324_103027_TradingView.jpg to Screenshot_20250324_103027_TradingView.jpg\n",
            "Saving Screenshot_20250325_082739_TradingView.jpg to Screenshot_20250325_082739_TradingView.jpg\n",
            "Saving Screenshot_20250326_093219_TradingView.jpg to Screenshot_20250326_093219_TradingView.jpg\n",
            "Saving Screenshot_20250327_100800_TradingView.jpg to Screenshot_20250327_100800_TradingView.jpg\n",
            "Saving Screenshot_20250328_082546_TradingView.jpg to Screenshot_20250328_082546_TradingView.jpg\n",
            "Saving Screenshot_20250331_090751_TradingView.jpg to Screenshot_20250331_090751_TradingView.jpg\n",
            "Saving Screenshot_20250423_075332_TradingView.jpg to Screenshot_20250423_075332_TradingView.jpg\n",
            "Saving Screenshot_20250428_083944_TradingView.jpg to Screenshot_20250428_083944_TradingView.jpg\n",
            "Saving Screenshot_20250429_085134_TradingView.jpg to Screenshot_20250429_085134_TradingView.jpg\n",
            "Saving Screenshot_20250430_082115_TradingView.jpg to Screenshot_20250430_082115_TradingView.jpg\n",
            "Saving Screenshot_20250501_102947_TradingView.jpg to Screenshot_20250501_102947_TradingView.jpg\n",
            "Saving Screenshot_20250502_083507_TradingView.jpg to Screenshot_20250502_083507_TradingView.jpg\n",
            "Saving Screenshot_20250505_092914_TradingView.jpg to Screenshot_20250505_092914_TradingView.jpg\n",
            "Saving Screenshot_20250506_082616_TradingView.jpg to Screenshot_20250506_082616_TradingView.jpg\n",
            "Saving Screenshot_20250507_083212_TradingView.jpg to Screenshot_20250507_083212_TradingView.jpg\n",
            "Saving Screenshot_20250508_080022_TradingView.jpg to Screenshot_20250508_080022_TradingView.jpg\n",
            "Saving Screenshot_20250509_122738_TradingView.jpg to Screenshot_20250509_122738_TradingView.jpg\n",
            "Saving Screenshot_20250513_081744_TradingView.jpg to Screenshot_20250513_081744_TradingView.jpg\n",
            "Saving Screenshot_20250514_083543_TradingView.jpg to Screenshot_20250514_083543_TradingView.jpg\n",
            "Saving Screenshot_20250515_083817_TradingView.jpg to Screenshot_20250515_083817_TradingView.jpg\n",
            "Saving Screenshot_20250519_085136_TradingView.jpg to Screenshot_20250519_085136_TradingView.jpg\n",
            "Saving T29 trades.csv to T29 trades.csv\n"
          ]
        }
      ],
      "source": [
        "from google.colab import files\n",
        "uploaded = files.upload()"
      ]
    },
    {
      "cell_type": "code",
      "source": [
        "from tensorflow.keras.models import load_model\n",
        "import joblib\n",
        "\n",
        "# Load the trained model\n",
        "model = load_model(\"trade_multi_output_model.keras\")\n",
        "\n",
        "# Load the encoders\n",
        "label_encoder = joblib.load(\"label_encoder.pkl\")\n",
        "direction_encoder = joblib.load(\"direction_encoder.pkl\")\n"
      ],
      "metadata": {
        "id": "aC1bn4V1mEq0"
      },
      "execution_count": 4,
      "outputs": []
    },
    {
      "cell_type": "code",
      "source": [
        "import os\n",
        "import numpy as np\n",
        "import pandas as pd\n",
        "from PIL import Image\n",
        "from sklearn.model_selection import train_test_split\n",
        "from sklearn.preprocessing import LabelEncoder\n",
        "from tensorflow.keras.utils import to_categorical\n",
        "from tensorflow.keras.applications import MobileNetV2\n",
        "from tensorflow.keras.applications.mobilenet_v2 import preprocess_input\n",
        "from tensorflow.keras.models import Model\n",
        "from tensorflow.keras.layers import Input, Dense, Flatten, Dropout\n",
        "from tensorflow.keras.optimizers import Adam\n",
        "from tensorflow.keras.callbacks import EarlyStopping\n",
        "import matplotlib.pyplot as plt\n",
        "\n",
        "# === CONFIG ===\n",
        "CSV_PATH = '/content/trades.csv'\n",
        "IMAGE_FOLDER = '/content/'\n",
        "IMAGE_SIZE = (224, 224)\n",
        "EPOCHS = 30\n",
        "BATCH_SIZE = 8\n",
        "\n",
        "# === LOAD DATA ===\n",
        "df = pd.read_csv(CSV_PATH)\n",
        "df.dropna(subset=['chart_image', 'label', 'direction_taken'], inplace=True)\n",
        "df['chart_image'] = df['chart_image'].apply(lambda x: os.path.basename(str(x)))\n",
        "\n",
        "# Keep only rows where the image file actually exists\n",
        "available_images = set(os.listdir(IMAGE_FOLDER))\n",
        "df = df[df['chart_image'].isin(available_images)].copy()\n",
        "\n",
        "# Encode labels\n",
        "label_encoder = LabelEncoder()\n",
        "df['label_enc'] = label_encoder.fit_transform(df['label'])\n",
        "y_outcome = to_categorical(df['label_enc'])\n",
        "\n",
        "direction_encoder = LabelEncoder()\n",
        "df['direction_enc'] = direction_encoder.fit_transform(df['direction_taken'])\n",
        "y_direction = to_categorical(df['direction_enc'])\n",
        "\n",
        "# Load and preprocess chart images\n",
        "def load_images(filenames):\n",
        "    images = []\n",
        "    for fname in filenames:\n",
        "        path = os.path.join(IMAGE_FOLDER, fname)\n",
        "        img = Image.open(path).convert('RGB').resize(IMAGE_SIZE)\n",
        "        img_array = preprocess_input(np.array(img))\n",
        "        images.append(img_array)\n",
        "    return np.array(images)\n",
        "\n",
        "X_images = load_images(df['chart_image'])\n",
        "\n",
        "print(\"✅ Data is loaded and ready for training!\")"
      ],
      "metadata": {
        "colab": {
          "base_uri": "https://localhost:8080/"
        },
        "id": "mO-F2a8Jm-VD",
        "outputId": "36709dff-ff3e-4df5-e1ba-55399ae4772c"
      },
      "execution_count": 6,
      "outputs": [
        {
          "output_type": "stream",
          "name": "stdout",
          "text": [
            "✅ Data is loaded and ready for training!\n"
          ]
        }
      ]
    },
    {
      "cell_type": "code",
      "source": [
        "# === SPLIT DATA ===\n",
        "X_train, X_test, y_outcome_train, y_outcome_test, y_dir_train, y_dir_test = train_test_split(\n",
        "    X_images, y_outcome, y_direction, test_size=0.2, stratify=y_outcome, random_state=42\n",
        ")\n",
        "\n",
        "# === BUILD MODEL ===\n",
        "base_model = MobileNetV2(include_top=False, weights='imagenet', input_shape=(*IMAGE_SIZE, 3))\n",
        "base_model.trainable = False  # freeze pretrained layers\n",
        "\n",
        "img_input = Input(shape=(*IMAGE_SIZE, 3))\n",
        "x = base_model(img_input, training=False)\n",
        "x = Flatten()(x)\n",
        "x = Dropout(0.3)(x)\n",
        "x = Dense(64, activation='relu')(x)\n",
        "x = Dropout(0.3)(x)\n",
        "\n",
        "# Output heads\n",
        "outcome_output = Dense(y_outcome.shape[1], activation='softmax', name='outcome')(x)\n",
        "direction_output = Dense(y_direction.shape[1], activation='softmax', name='direction')(x)\n",
        "\n",
        "model = Model(inputs=img_input, outputs=[outcome_output, direction_output])\n",
        "model.compile(\n",
        "    optimizer=Adam(1e-4),\n",
        "    loss={'outcome': 'categorical_crossentropy', 'direction': 'categorical_crossentropy'},\n",
        "    metrics={'outcome': 'accuracy', 'direction': 'accuracy'}\n",
        ")\n",
        "\n",
        "# === TRAIN MODEL ===\n",
        "early_stop = EarlyStopping(monitor='val_loss', patience=5, restore_best_weights=True)\n",
        "history = model.fit(\n",
        "    x=X_train,\n",
        "    y={'outcome': y_outcome_train, 'direction': y_dir_train},\n",
        "    validation_data=(X_test, {'outcome': y_outcome_test, 'direction': y_dir_test}),\n",
        "    epochs=EPOCHS,\n",
        "    batch_size=BATCH_SIZE,\n",
        "    callbacks=[early_stop]\n",
        ")\n",
        "\n",
        "# === EVALUATE ===\n",
        "results = model.evaluate(X_test, {'outcome': y_outcome_test, 'direction': y_dir_test})\n",
        "print(f\"\\n📊 Test Accuracy — Outcome: {results[3]:.2f}, Direction: {results[4]:.2f}\")\n",
        "\n",
        "# === SAVE MODEL ===\n",
        "model.save(\"trade_multi_output_model.keras\")\n",
        "\n",
        "# === PLOT ===\n",
        "plt.plot(history.history['outcome_accuracy'], label='Train Outcome Acc')\n",
        "plt.plot(history.history['val_outcome_accuracy'], label='Val Outcome Acc')\n",
        "plt.plot(history.history['direction_accuracy'], label='Train Direction Acc')\n",
        "plt.plot(history.history['val_direction_accuracy'], label='Val Direction Acc')\n",
        "plt.legend()\n",
        "plt.title('Training History')\n",
        "plt.xlabel('Epoch')\n",
        "plt.ylabel('Accuracy')\n",
        "plt.show()\n"
      ],
      "metadata": {
        "colab": {
          "base_uri": "https://localhost:8080/",
          "height": 1000
        },
        "id": "EeygQKdHnoON",
        "outputId": "fa39da67-09aa-46b8-ecba-fb6c1db8034a"
      },
      "execution_count": 7,
      "outputs": [
        {
          "output_type": "stream",
          "name": "stdout",
          "text": [
            "Downloading data from https://storage.googleapis.com/tensorflow/keras-applications/mobilenet_v2/mobilenet_v2_weights_tf_dim_ordering_tf_kernels_1.0_224_no_top.h5\n",
            "\u001b[1m9406464/9406464\u001b[0m \u001b[32m━━━━━━━━━━━━━━━━━━━━\u001b[0m\u001b[37m\u001b[0m \u001b[1m0s\u001b[0m 0us/step\n",
            "Epoch 1/30\n",
            "\u001b[1m9/9\u001b[0m \u001b[32m━━━━━━━━━━━━━━━━━━━━\u001b[0m\u001b[37m\u001b[0m \u001b[1m12s\u001b[0m 585ms/step - direction_accuracy: 0.6014 - direction_loss: 1.2532 - loss: 4.5548 - outcome_accuracy: 0.1760 - outcome_loss: 3.2746 - val_direction_accuracy: 0.9412 - val_direction_loss: 0.4077 - val_loss: 1.8115 - val_outcome_accuracy: 0.4118 - val_outcome_loss: 1.3843\n",
            "Epoch 2/30\n",
            "\u001b[1m9/9\u001b[0m \u001b[32m━━━━━━━━━━━━━━━━━━━━\u001b[0m\u001b[37m\u001b[0m \u001b[1m10s\u001b[0m 555ms/step - direction_accuracy: 0.7021 - direction_loss: 0.5932 - loss: 2.3218 - outcome_accuracy: 0.4701 - outcome_loss: 1.7231 - val_direction_accuracy: 0.8824 - val_direction_loss: 0.1295 - val_loss: 1.3097 - val_outcome_accuracy: 0.6471 - val_outcome_loss: 0.8175\n",
            "Epoch 3/30\n",
            "\u001b[1m9/9\u001b[0m \u001b[32m━━━━━━━━━━━━━━━━━━━━\u001b[0m\u001b[37m\u001b[0m \u001b[1m3s\u001b[0m 335ms/step - direction_accuracy: 0.8326 - direction_loss: 0.4351 - loss: 1.1500 - outcome_accuracy: 0.7895 - outcome_loss: 0.7083 - val_direction_accuracy: 1.0000 - val_direction_loss: 0.1519 - val_loss: 0.8510 - val_outcome_accuracy: 0.5882 - val_outcome_loss: 0.5085\n",
            "Epoch 4/30\n",
            "\u001b[1m9/9\u001b[0m \u001b[32m━━━━━━━━━━━━━━━━━━━━\u001b[0m\u001b[37m\u001b[0m \u001b[1m5s\u001b[0m 336ms/step - direction_accuracy: 0.9176 - direction_loss: 0.2129 - loss: 0.7584 - outcome_accuracy: 0.8500 - outcome_loss: 0.5578 - val_direction_accuracy: 1.0000 - val_direction_loss: 0.0918 - val_loss: 0.6582 - val_outcome_accuracy: 0.7647 - val_outcome_loss: 0.4583\n",
            "Epoch 5/30\n",
            "\u001b[1m9/9\u001b[0m \u001b[32m━━━━━━━━━━━━━━━━━━━━\u001b[0m\u001b[37m\u001b[0m \u001b[1m5s\u001b[0m 346ms/step - direction_accuracy: 0.8689 - direction_loss: 0.2361 - loss: 0.8334 - outcome_accuracy: 0.8016 - outcome_loss: 0.5976 - val_direction_accuracy: 1.0000 - val_direction_loss: 0.0577 - val_loss: 0.6364 - val_outcome_accuracy: 0.8235 - val_outcome_loss: 0.4555\n",
            "Epoch 6/30\n",
            "\u001b[1m9/9\u001b[0m \u001b[32m━━━━━━━━━━━━━━━━━━━━\u001b[0m\u001b[37m\u001b[0m \u001b[1m5s\u001b[0m 348ms/step - direction_accuracy: 0.9936 - direction_loss: 0.0919 - loss: 0.5349 - outcome_accuracy: 0.8865 - outcome_loss: 0.4364 - val_direction_accuracy: 1.0000 - val_direction_loss: 0.0413 - val_loss: 0.6354 - val_outcome_accuracy: 0.8235 - val_outcome_loss: 0.4414\n",
            "Epoch 7/30\n",
            "\u001b[1m9/9\u001b[0m \u001b[32m━━━━━━━━━━━━━━━━━━━━\u001b[0m\u001b[37m\u001b[0m \u001b[1m6s\u001b[0m 483ms/step - direction_accuracy: 0.9754 - direction_loss: 0.0813 - loss: 0.5523 - outcome_accuracy: 0.8568 - outcome_loss: 0.4672 - val_direction_accuracy: 1.0000 - val_direction_loss: 0.0679 - val_loss: 0.4996 - val_outcome_accuracy: 0.8235 - val_outcome_loss: 0.3212\n",
            "Epoch 8/30\n",
            "\u001b[1m9/9\u001b[0m \u001b[32m━━━━━━━━━━━━━━━━━━━━\u001b[0m\u001b[37m\u001b[0m \u001b[1m4s\u001b[0m 350ms/step - direction_accuracy: 0.9514 - direction_loss: 0.1190 - loss: 0.3734 - outcome_accuracy: 0.9312 - outcome_loss: 0.2555 - val_direction_accuracy: 1.0000 - val_direction_loss: 0.0493 - val_loss: 0.4107 - val_outcome_accuracy: 1.0000 - val_outcome_loss: 0.2814\n",
            "Epoch 9/30\n",
            "\u001b[1m9/9\u001b[0m \u001b[32m━━━━━━━━━━━━━━━━━━━━\u001b[0m\u001b[37m\u001b[0m \u001b[1m5s\u001b[0m 344ms/step - direction_accuracy: 0.9859 - direction_loss: 0.0808 - loss: 0.2782 - outcome_accuracy: 0.9154 - outcome_loss: 0.1963 - val_direction_accuracy: 1.0000 - val_direction_loss: 0.0497 - val_loss: 0.5037 - val_outcome_accuracy: 0.8235 - val_outcome_loss: 0.3363\n",
            "Epoch 10/30\n",
            "\u001b[1m9/9\u001b[0m \u001b[32m━━━━━━━━━━━━━━━━━━━━\u001b[0m\u001b[37m\u001b[0m \u001b[1m5s\u001b[0m 334ms/step - direction_accuracy: 0.9077 - direction_loss: 0.1386 - loss: 0.5235 - outcome_accuracy: 0.8382 - outcome_loss: 0.3792 - val_direction_accuracy: 1.0000 - val_direction_loss: 0.0284 - val_loss: 0.7291 - val_outcome_accuracy: 0.6471 - val_outcome_loss: 0.4908\n",
            "Epoch 11/30\n",
            "\u001b[1m9/9\u001b[0m \u001b[32m━━━━━━━━━━━━━━━━━━━━\u001b[0m\u001b[37m\u001b[0m \u001b[1m5s\u001b[0m 322ms/step - direction_accuracy: 0.9970 - direction_loss: 0.0547 - loss: 0.2618 - outcome_accuracy: 0.9054 - outcome_loss: 0.2156 - val_direction_accuracy: 1.0000 - val_direction_loss: 0.0281 - val_loss: 0.4550 - val_outcome_accuracy: 0.8824 - val_outcome_loss: 0.3027\n",
            "Epoch 12/30\n",
            "\u001b[1m9/9\u001b[0m \u001b[32m━━━━━━━━━━━━━━━━━━━━\u001b[0m\u001b[37m\u001b[0m \u001b[1m4s\u001b[0m 475ms/step - direction_accuracy: 0.9806 - direction_loss: 0.0561 - loss: 0.2543 - outcome_accuracy: 0.9411 - outcome_loss: 0.1963 - val_direction_accuracy: 1.0000 - val_direction_loss: 0.0182 - val_loss: 0.2917 - val_outcome_accuracy: 0.8824 - val_outcome_loss: 0.2007\n",
            "Epoch 13/30\n",
            "\u001b[1m9/9\u001b[0m \u001b[32m━━━━━━━━━━━━━━━━━━━━\u001b[0m\u001b[37m\u001b[0m \u001b[1m3s\u001b[0m 331ms/step - direction_accuracy: 0.9954 - direction_loss: 0.0289 - loss: 0.1500 - outcome_accuracy: 0.9813 - outcome_loss: 0.1188 - val_direction_accuracy: 1.0000 - val_direction_loss: 0.0140 - val_loss: 0.3869 - val_outcome_accuracy: 0.7647 - val_outcome_loss: 0.2641\n",
            "Epoch 14/30\n",
            "\u001b[1m9/9\u001b[0m \u001b[32m━━━━━━━━━━━━━━━━━━━━\u001b[0m\u001b[37m\u001b[0m \u001b[1m3s\u001b[0m 339ms/step - direction_accuracy: 0.9817 - direction_loss: 0.0459 - loss: 0.2419 - outcome_accuracy: 0.9175 - outcome_loss: 0.1938 - val_direction_accuracy: 1.0000 - val_direction_loss: 0.0179 - val_loss: 0.2497 - val_outcome_accuracy: 0.9412 - val_outcome_loss: 0.1708\n",
            "Epoch 15/30\n",
            "\u001b[1m9/9\u001b[0m \u001b[32m━━━━━━━━━━━━━━━━━━━━\u001b[0m\u001b[37m\u001b[0m \u001b[1m3s\u001b[0m 331ms/step - direction_accuracy: 1.0000 - direction_loss: 0.0225 - loss: 0.1107 - outcome_accuracy: 0.9622 - outcome_loss: 0.0861 - val_direction_accuracy: 1.0000 - val_direction_loss: 0.0255 - val_loss: 0.2221 - val_outcome_accuracy: 0.8824 - val_outcome_loss: 0.1463\n",
            "Epoch 16/30\n",
            "\u001b[1m9/9\u001b[0m \u001b[32m━━━━━━━━━━━━━━━━━━━━\u001b[0m\u001b[37m\u001b[0m \u001b[1m4s\u001b[0m 518ms/step - direction_accuracy: 1.0000 - direction_loss: 0.0196 - loss: 0.2365 - outcome_accuracy: 0.9520 - outcome_loss: 0.2142 - val_direction_accuracy: 1.0000 - val_direction_loss: 0.0293 - val_loss: 0.2168 - val_outcome_accuracy: 0.9412 - val_outcome_loss: 0.1269\n",
            "Epoch 17/30\n",
            "\u001b[1m9/9\u001b[0m \u001b[32m━━━━━━━━━━━━━━━━━━━━\u001b[0m\u001b[37m\u001b[0m \u001b[1m4s\u001b[0m 344ms/step - direction_accuracy: 0.9755 - direction_loss: 0.0561 - loss: 0.1460 - outcome_accuracy: 0.9813 - outcome_loss: 0.0879 - val_direction_accuracy: 1.0000 - val_direction_loss: 0.0102 - val_loss: 0.1474 - val_outcome_accuracy: 1.0000 - val_outcome_loss: 0.0978\n",
            "Epoch 18/30\n",
            "\u001b[1m9/9\u001b[0m \u001b[32m━━━━━━━━━━━━━━━━━━━━\u001b[0m\u001b[37m\u001b[0m \u001b[1m3s\u001b[0m 340ms/step - direction_accuracy: 1.0000 - direction_loss: 0.0211 - loss: 0.1378 - outcome_accuracy: 0.9614 - outcome_loss: 0.1177 - val_direction_accuracy: 1.0000 - val_direction_loss: 0.0082 - val_loss: 0.2122 - val_outcome_accuracy: 0.8824 - val_outcome_loss: 0.2013\n",
            "Epoch 19/30\n",
            "\u001b[1m9/9\u001b[0m \u001b[32m━━━━━━━━━━━━━━━━━━━━\u001b[0m\u001b[37m\u001b[0m \u001b[1m4s\u001b[0m 419ms/step - direction_accuracy: 0.9670 - direction_loss: 0.0534 - loss: 0.1203 - outcome_accuracy: 0.9679 - outcome_loss: 0.0862 - val_direction_accuracy: 1.0000 - val_direction_loss: 0.0036 - val_loss: 0.3151 - val_outcome_accuracy: 0.8824 - val_outcome_loss: 0.3006\n",
            "Epoch 20/30\n",
            "\u001b[1m9/9\u001b[0m \u001b[32m━━━━━━━━━━━━━━━━━━━━\u001b[0m\u001b[37m\u001b[0m \u001b[1m4s\u001b[0m 336ms/step - direction_accuracy: 1.0000 - direction_loss: 0.0348 - loss: 0.1394 - outcome_accuracy: 0.9464 - outcome_loss: 0.1049 - val_direction_accuracy: 1.0000 - val_direction_loss: 0.0122 - val_loss: 0.2042 - val_outcome_accuracy: 0.9412 - val_outcome_loss: 0.1334\n",
            "Epoch 21/30\n",
            "\u001b[1m9/9\u001b[0m \u001b[32m━━━━━━━━━━━━━━━━━━━━\u001b[0m\u001b[37m\u001b[0m \u001b[1m5s\u001b[0m 336ms/step - direction_accuracy: 1.0000 - direction_loss: 0.0178 - loss: 0.1000 - outcome_accuracy: 0.9529 - outcome_loss: 0.0821 - val_direction_accuracy: 1.0000 - val_direction_loss: 0.0091 - val_loss: 0.2069 - val_outcome_accuracy: 0.9412 - val_outcome_loss: 0.1379\n",
            "Epoch 22/30\n",
            "\u001b[1m9/9\u001b[0m \u001b[32m━━━━━━━━━━━━━━━━━━━━\u001b[0m\u001b[37m\u001b[0m \u001b[1m5s\u001b[0m 351ms/step - direction_accuracy: 1.0000 - direction_loss: 0.0067 - loss: 0.0415 - outcome_accuracy: 0.9936 - outcome_loss: 0.0353 - val_direction_accuracy: 1.0000 - val_direction_loss: 0.0051 - val_loss: 0.1560 - val_outcome_accuracy: 0.9412 - val_outcome_loss: 0.1060\n",
            "\u001b[1m1/1\u001b[0m \u001b[32m━━━━━━━━━━━━━━━━━━━━\u001b[0m\u001b[37m\u001b[0m \u001b[1m1s\u001b[0m 592ms/step - direction_accuracy: 1.0000 - direction_loss: 0.0143 - loss: 0.1474 - outcome_accuracy: 1.0000 - outcome_loss: 0.1332\n",
            "\n",
            "📊 Test Accuracy — Outcome: 1.00, Direction: 1.00\n"
          ]
        },
        {
          "output_type": "display_data",
          "data": {
            "text/plain": [
              "<Figure size 640x480 with 1 Axes>"
            ],
            "image/png": "[encoded data removed]"
          },
          "metadata": {}
        }
      ]
    },
    {
      "cell_type": "code",
      "source": [
        "def predict_from_chart(image_path):\n",
        "    # Load and preprocess image\n",
        "    img = Image.open(image_path).convert('RGB').resize(IMAGE_SIZE)\n",
        "    img_array = preprocess_input(np.array(img)).reshape(1, *IMAGE_SIZE, 3)\n",
        "\n",
        "    # Predict\n",
        "    pred_outcome, pred_direction = model.predict(img_array)\n",
        "\n",
        "    # Decode predictions\n",
        "    outcome_label = label_encoder.inverse_transform([np.argmax(pred_outcome)])[0]\n",
        "    direction_label = direction_encoder.inverse_transform([np.argmax(pred_direction)])[0]\n",
        "    outcome_conf = np.max(pred_outcome)\n",
        "    direction_conf = np.max(pred_direction)\n",
        "\n",
        "    # Display result\n",
        "    print(f\"📢 Suggested Direction: {direction_label.upper()} (Confidence: {direction_conf:.2f})\")\n",
        "    print(f\"🎯 Expected Outcome: {outcome_label.upper()} (Confidence: {outcome_conf:.2f})\")\n",
        "\n",
        "    return direction_label, outcome_label, direction_conf, outcome_conf\n"
      ],
      "metadata": {
        "id": "JSZKjQ-jog56"
      },
      "execution_count": null,
      "outputs": []
    },
    {
      "cell_type": "code",
      "source": [
        "predict_from_chart(\"/content/image3.jpg\")"
      ],
      "metadata": {
        "colab": {
          "base_uri": "https://localhost:8080/"
        },
        "id": "gBZPy95sqVZQ",
        "outputId": "9241860e-d1fb-49c8-e564-818776eeb3a1"
      },
      "execution_count": null,
      "outputs": [
        {
          "output_type": "stream",
          "name": "stdout",
          "text": [
            "\u001b[1m1/1\u001b[0m \u001b[32m━━━━━━━━━━━━━━━━━━━━\u001b[0m\u001b[37m\u001b[0m \u001b[1m0s\u001b[0m 141ms/step\n",
            "📢 Suggested Direction: BUY (Confidence: 1.00)\n",
            "🎯 Expected Outcome: LOSS (Confidence: 1.00)\n"
          ]
        },
        {
          "output_type": "execute_result",
          "data": {
            "text/plain": [
              "('buy', 'loss', np.float32(0.9999726), np.float32(0.99986637))"
            ]
          },
          "metadata": {},
          "execution_count": 17
        }
      ]
    },
    {
      "cell_type": "code",
      "source": [
        "# Load corrections\n",
        "corrections = pd.read_csv('corrections.csv')\n",
        "corrections = corrections.dropna(subset=['chart_image', 'label', 'direction_taken'])\n",
        "\n",
        "# Encode new labels (with full class size)\n",
        "corrections['label_enc'] = label_encoder.transform(corrections['label'])\n",
        "y_outcome_new = to_categorical(corrections['label_enc'], num_classes=len(label_encoder.classes_))\n",
        "\n",
        "corrections['direction_enc'] = direction_encoder.transform(corrections['direction_taken'])\n",
        "y_direction_new = to_categorical(corrections['direction_enc'], num_classes=len(direction_encoder.classes_))\n",
        "\n",
        "\n",
        "# Load images\n",
        "def load_images(filenames):\n",
        "    images = []\n",
        "    for fname in filenames:\n",
        "        path = os.path.join('/content/', fname)\n",
        "        img = Image.open(path).convert('RGB').resize((224, 224))\n",
        "        img_array = preprocess_input(np.array(img))\n",
        "        images.append(img_array)\n",
        "    return np.array(images)\n",
        "\n",
        "X_new = load_images(corrections['chart_image'])\n",
        "\n",
        "# Fine-tune on new example(s)\n",
        "model.fit(\n",
        "    x=X_new,\n",
        "    y={'outcome': y_outcome_new, 'direction': y_direction_new},\n",
        "    epochs=5,  # small, controlled updates\n",
        "    batch_size=1\n",
        ")\n"
      ],
      "metadata": {
        "colab": {
          "base_uri": "https://localhost:8080/"
        },
        "id": "uC44HTOjr7G9",
        "outputId": "d6f34430-10ec-45cb-9eaf-e4aa0225de81"
      },
      "execution_count": null,
      "outputs": [
        {
          "output_type": "stream",
          "name": "stdout",
          "text": [
            "Epoch 1/5\n",
            "\u001b[1m2/2\u001b[0m \u001b[32m━━━━━━━━━━━━━━━━━━━━\u001b[0m\u001b[37m\u001b[0m \u001b[1m0s\u001b[0m 117ms/step - direction_accuracy: 1.0000 - direction_loss: 1.5531e-04 - loss: 4.8247 - outcome_accuracy: 0.6667 - outcome_loss: 4.8245\n",
            "Epoch 2/5\n",
            "\u001b[1m2/2\u001b[0m \u001b[32m━━━━━━━━━━━━━━━━━━━━\u001b[0m\u001b[37m\u001b[0m \u001b[1m0s\u001b[0m 132ms/step - direction_accuracy: 1.0000 - direction_loss: 1.3510e-06 - loss: 6.8241 - outcome_accuracy: 0.6667 - outcome_loss: 6.8241\n",
            "Epoch 3/5\n",
            "\u001b[1m2/2\u001b[0m \u001b[32m━━━━━━━━━━━━━━━━━━━━\u001b[0m\u001b[37m\u001b[0m \u001b[1m0s\u001b[0m 114ms/step - direction_accuracy: 1.0000 - direction_loss: 5.0862e-06 - loss: 6.2275 - outcome_accuracy: 0.3333 - outcome_loss: 6.2275\n",
            "Epoch 4/5\n",
            "\u001b[1m2/2\u001b[0m \u001b[32m━━━━━━━━━━━━━━━━━━━━\u001b[0m\u001b[37m\u001b[0m \u001b[1m0s\u001b[0m 113ms/step - direction_accuracy: 1.0000 - direction_loss: 1.7092e-04 - loss: 1.8451 - outcome_accuracy: 0.3333 - outcome_loss: 1.8450\n",
            "Epoch 5/5\n",
            "\u001b[1m2/2\u001b[0m \u001b[32m━━━━━━━━━━━━━━━━━━━━\u001b[0m\u001b[37m\u001b[0m \u001b[1m0s\u001b[0m 116ms/step - direction_accuracy: 1.0000 - direction_loss: 5.0465e-06 - loss: 0.2554 - outcome_accuracy: 0.6667 - outcome_loss: 0.2554\n"
          ]
        },
        {
          "output_type": "execute_result",
          "data": {
            "text/plain": [
              "<keras.src.callbacks.history.History at 0x7879dd7fa5d0>"
            ]
          },
          "metadata": {},
          "execution_count": 16
        }
      ]
    },
    {
      "cell_type": "code",
      "source": [
        "predict_from_chart(\"/content/image3.jpg\")"
      ],
      "metadata": {
        "colab": {
          "base_uri": "https://localhost:8080/"
        },
        "id": "POeVO3egwOv1",
        "outputId": "ab6ad5d8-1adb-4376-d22c-b1a93ea130b1"
      },
      "execution_count": null,
      "outputs": [
        {
          "output_type": "stream",
          "name": "stdout",
          "text": [
            "\u001b[1m1/1\u001b[0m \u001b[32m━━━━━━━━━━━━━━━━━━━━\u001b[0m\u001b[37m\u001b[0m \u001b[1m0s\u001b[0m 92ms/step\n",
            "📢 Suggested Direction: BUY (Confidence: 1.00)\n",
            "🎯 Expected Outcome: HALF_FULL (Confidence: 1.00)\n"
          ]
        },
        {
          "output_type": "execute_result",
          "data": {
            "text/plain": [
              "('buy', 'half_full', np.float32(0.99995005), np.float32(0.9999981))"
            ]
          },
          "metadata": {},
          "execution_count": 13
        }
      ]
    },
    {
      "cell_type": "code",
      "source": [
        "import joblib\n",
        "\n",
        "# Save encoders to file\n",
        "joblib.dump(label_encoder, \"label_encoder.pkl\")\n",
        "joblib.dump(direction_encoder, \"direction_encoder.pkl\")\n"
      ],
      "metadata": {
        "colab": {
          "base_uri": "https://localhost:8080/"
        },
        "id": "hB8MuHOYtlQV",
        "outputId": "94a8130e-c357-4e7f-c26c-d59da2b3a338"
      },
      "execution_count": null,
      "outputs": [
        {
          "output_type": "execute_result",
          "data": {
            "text/plain": [
              "['direction_encoder.pkl']"
            ]
          },
          "metadata": {},
          "execution_count": 18
        }
      ]
    },
    {
      "cell_type": "code",
      "source": [
        "from google.colab import files\n",
        "files.download(\"label_encoder.pkl\")\n",
        "files.download(\"direction_encoder.pkl\")\n"
      ],
      "metadata": {
        "colab": {
          "base_uri": "https://localhost:8080/",
          "height": 17
        },
        "id": "jtwzJaJctnF0",
        "outputId": "2feb5813-5f17-4c54-cc54-ad8dda12bb43"
      },
      "execution_count": null,
      "outputs": [
        {
          "output_type": "display_data",
          "data": {
            "text/plain": [
              "<IPython.core.display.Javascript object>"
            ],
            "application/javascript": [
              "\n",
              "    async function download(id, filename, size) {\n",
              "      if (!google.colab.kernel.accessAllowed) {\n",
              "        return;\n",
              "      }\n",
              "      const div = document.createElement('div');\n",
              "      const label = document.createElement('label');\n",
              "      label.textContent = `Downloading \"${filename}\": `;\n",
              "      div.appendChild(label);\n",
              "      const progress = document.createElement('progress');\n",
              "      progress.max = size;\n",
              "      div.appendChild(progress);\n",
              "      document.body.appendChild(div);\n",
              "\n",
              "      const buffers = [];\n",
              "      let downloaded = 0;\n",
              "\n",
              "      const channel = await google.colab.kernel.comms.open(id);\n",
              "      // Send a message to notify the kernel that we're ready.\n",
              "      channel.send({})\n",
              "\n",
              "      for await (const message of channel.messages) {\n",
              "        // Send a message to notify the kernel that we're ready.\n",
              "        channel.send({})\n",
              "        if (message.buffers) {\n",
              "          for (const buffer of message.buffers) {\n",
              "            buffers.push(buffer);\n",
              "            downloaded += buffer.byteLength;\n",
              "            progress.value = downloaded;\n",
              "          }\n",
              "        }\n",
              "      }\n",
              "      const blob = new Blob(buffers, {type: 'application/binary'});\n",
              "      const a = document.createElement('a');\n",
              "      a.href = window.URL.createObjectURL(blob);\n",
              "      a.download = filename;\n",
              "      div.appendChild(a);\n",
              "      a.click();\n",
              "      div.remove();\n",
              "    }\n",
              "  "
            ]
          },
          "metadata": {}
        },
        {
          "output_type": "display_data",
          "data": {
            "text/plain": [
              "<IPython.core.display.Javascript object>"
            ],
            "application/javascript": [
              "download(\"download_ee928faa-5415-4df6-917b-9da17f5461b6\", \"label_encoder.pkl\", 522)"
            ]
          },
          "metadata": {}
        },
        {
          "output_type": "display_data",
          "data": {
            "text/plain": [
              "<IPython.core.display.Javascript object>"
            ],
            "application/javascript": [
              "\n",
              "    async function download(id, filename, size) {\n",
              "      if (!google.colab.kernel.accessAllowed) {\n",
              "        return;\n",
              "      }\n",
              "      const div = document.createElement('div');\n",
              "      const label = document.createElement('label');\n",
              "      label.textContent = `Downloading \"${filename}\": `;\n",
              "      div.appendChild(label);\n",
              "      const progress = document.createElement('progress');\n",
              "      progress.max = size;\n",
              "      div.appendChild(progress);\n",
              "      document.body.appendChild(div);\n",
              "\n",
              "      const buffers = [];\n",
              "      let downloaded = 0;\n",
              "\n",
              "      const channel = await google.colab.kernel.comms.open(id);\n",
              "      // Send a message to notify the kernel that we're ready.\n",
              "      channel.send({})\n",
              "\n",
              "      for await (const message of channel.messages) {\n",
              "        // Send a message to notify the kernel that we're ready.\n",
              "        channel.send({})\n",
              "        if (message.buffers) {\n",
              "          for (const buffer of message.buffers) {\n",
              "            buffers.push(buffer);\n",
              "            downloaded += buffer.byteLength;\n",
              "            progress.value = downloaded;\n",
              "          }\n",
              "        }\n",
              "      }\n",
              "      const blob = new Blob(buffers, {type: 'application/binary'});\n",
              "      const a = document.createElement('a');\n",
              "      a.href = window.URL.createObjectURL(blob);\n",
              "      a.download = filename;\n",
              "      div.appendChild(a);\n",
              "      a.click();\n",
              "      div.remove();\n",
              "    }\n",
              "  "
            ]
          },
          "metadata": {}
        },
        {
          "output_type": "display_data",
          "data": {
            "text/plain": [
              "<IPython.core.display.Javascript object>"
            ],
            "application/javascript": [
              "download(\"download_252a0691-f19b-44a7-ac14-d1ddf02b623e\", \"direction_encoder.pkl\", 486)"
            ]
          },
          "metadata": {}
        }
      ]
    },
    {
      "cell_type": "code",
      "source": [
        "model.save(\"trade_multi_output_model.keras\")\n",
        "files.download(\"trade_multi_output_model.keras\")\n",
        "\n",
        "files.download(\"T29 trades.csv\")\n",
        "files.download(\"corrections.csv\")"
      ],
      "metadata": {
        "id": "VcqzAHTItqc9",
        "outputId": "b01909db-bb19-4f14-b519-d64f39ae3602",
        "colab": {
          "base_uri": "https://localhost:8080/",
          "height": 69
        }
      },
      "execution_count": null,
      "outputs": [
        {
          "output_type": "display_data",
          "data": {
            "text/plain": [
              "<IPython.core.display.Javascript object>"
            ],
            "application/javascript": [
              "\n",
              "    async function download(id, filename, size) {\n",
              "      if (!google.colab.kernel.accessAllowed) {\n",
              "        return;\n",
              "      }\n",
              "      const div = document.createElement('div');\n",
              "      const label = document.createElement('label');\n",
              "      label.textContent = `Downloading \"${filename}\": `;\n",
              "      div.appendChild(label);\n",
              "      const progress = document.createElement('progress');\n",
              "      progress.max = size;\n",
              "      div.appendChild(progress);\n",
              "      document.body.appendChild(div);\n",
              "\n",
              "      const buffers = [];\n",
              "      let downloaded = 0;\n",
              "\n",
              "      const channel = await google.colab.kernel.comms.open(id);\n",
              "      // Send a message to notify the kernel that we're ready.\n",
              "      channel.send({})\n",
              "\n",
              "      for await (const message of channel.messages) {\n",
              "        // Send a message to notify the kernel that we're ready.\n",
              "        channel.send({})\n",
              "        if (message.buffers) {\n",
              "          for (const buffer of message.buffers) {\n",
              "            buffers.push(buffer);\n",
              "            downloaded += buffer.byteLength;\n",
              "            progress.value = downloaded;\n",
              "          }\n",
              "        }\n",
              "      }\n",
              "      const blob = new Blob(buffers, {type: 'application/binary'});\n",
              "      const a = document.createElement('a');\n",
              "      a.href = window.URL.createObjectURL(blob);\n",
              "      a.download = filename;\n",
              "      div.appendChild(a);\n",
              "      a.click();\n",
              "      div.remove();\n",
              "    }\n",
              "  "
            ]
          },
          "metadata": {}
        },
        {
          "output_type": "display_data",
          "data": {
            "text/plain": [
              "<IPython.core.display.Javascript object>"
            ],
            "application/javascript": [
              "download(\"download_8191adc4-7f09-4b19-aa0c-c1e1f204de06\", \"trade_multi_output_model.keras\", 57801459)"
            ]
          },
          "metadata": {}
        },
        {
          "output_type": "display_data",
          "data": {
            "text/plain": [
              "<IPython.core.display.Javascript object>"
            ],
            "application/javascript": [
              "\n",
              "    async function download(id, filename, size) {\n",
              "      if (!google.colab.kernel.accessAllowed) {\n",
              "        return;\n",
              "      }\n",
              "      const div = document.createElement('div');\n",
              "      const label = document.createElement('label');\n",
              "      label.textContent = `Downloading \"${filename}\": `;\n",
              "      div.appendChild(label);\n",
              "      const progress = document.createElement('progress');\n",
              "      progress.max = size;\n",
              "      div.appendChild(progress);\n",
              "      document.body.appendChild(div);\n",
              "\n",
              "      const buffers = [];\n",
              "      let downloaded = 0;\n",
              "\n",
              "      const channel = await google.colab.kernel.comms.open(id);\n",
              "      // Send a message to notify the kernel that we're ready.\n",
              "      channel.send({})\n",
              "\n",
              "      for await (const message of channel.messages) {\n",
              "        // Send a message to notify the kernel that we're ready.\n",
              "        channel.send({})\n",
              "        if (message.buffers) {\n",
              "          for (const buffer of message.buffers) {\n",
              "            buffers.push(buffer);\n",
              "            downloaded += buffer.byteLength;\n",
              "            progress.value = downloaded;\n",
              "          }\n",
              "        }\n",
              "      }\n",
              "      const blob = new Blob(buffers, {type: 'application/binary'});\n",
              "      const a = document.createElement('a');\n",
              "      a.href = window.URL.createObjectURL(blob);\n",
              "      a.download = filename;\n",
              "      div.appendChild(a);\n",
              "      a.click();\n",
              "      div.remove();\n",
              "    }\n",
              "  "
            ]
          },
          "metadata": {}
        },
        {
          "output_type": "display_data",
          "data": {
            "text/plain": [
              "<IPython.core.display.Javascript object>"
            ],
            "application/javascript": [
              "download(\"download_aa6cfaf7-4166-4f0e-ab52-700bbead683c\", \"T29 trades.csv\", 5939)"
            ]
          },
          "metadata": {}
        },
        {
          "output_type": "display_data",
          "data": {
            "text/plain": [
              "<IPython.core.display.Javascript object>"
            ],
            "application/javascript": [
              "\n",
              "    async function download(id, filename, size) {\n",
              "      if (!google.colab.kernel.accessAllowed) {\n",
              "        return;\n",
              "      }\n",
              "      const div = document.createElement('div');\n",
              "      const label = document.createElement('label');\n",
              "      label.textContent = `Downloading \"${filename}\": `;\n",
              "      div.appendChild(label);\n",
              "      const progress = document.createElement('progress');\n",
              "      progress.max = size;\n",
              "      div.appendChild(progress);\n",
              "      document.body.appendChild(div);\n",
              "\n",
              "      const buffers = [];\n",
              "      let downloaded = 0;\n",
              "\n",
              "      const channel = await google.colab.kernel.comms.open(id);\n",
              "      // Send a message to notify the kernel that we're ready.\n",
              "      channel.send({})\n",
              "\n",
              "      for await (const message of channel.messages) {\n",
              "        // Send a message to notify the kernel that we're ready.\n",
              "        channel.send({})\n",
              "        if (message.buffers) {\n",
              "          for (const buffer of message.buffers) {\n",
              "            buffers.push(buffer);\n",
              "            downloaded += buffer.byteLength;\n",
              "            progress.value = downloaded;\n",
              "          }\n",
              "        }\n",
              "      }\n",
              "      const blob = new Blob(buffers, {type: 'application/binary'});\n",
              "      const a = document.createElement('a');\n",
              "      a.href = window.URL.createObjectURL(blob);\n",
              "      a.download = filename;\n",
              "      div.appendChild(a);\n",
              "      a.click();\n",
              "      div.remove();\n",
              "    }\n",
              "  "
            ]
          },
          "metadata": {}
        },
        {
          "output_type": "display_data",
          "data": {
            "text/plain": [
              "<IPython.core.display.Javascript object>"
            ],
            "application/javascript": [
              "download(\"download_fe74a931-c339-41c7-8bcf-fffbe2caff41\", \"corrections.csv\", 144)"
            ]
          },
          "metadata": {}
        }
      ]
    }
  ]
}